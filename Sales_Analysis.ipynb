{
 "cells": [
  {
   "cell_type": "code",
   "execution_count": 49,
   "id": "e797f21e-57ea-46ad-801e-546ef7762a40",
   "metadata": {},
   "outputs": [],
   "source": [
    "#dataset from: https://www.kaggle.com/datasets/abdullah0a/retail-sales-data-with-seasonal-trends-and-marketing/data"
   ]
  },
  {
   "cell_type": "code",
   "execution_count": 20,
   "id": "9d50acb0-c2c0-4d63-81b8-e077fbba7e24",
   "metadata": {},
   "outputs": [
    {
     "data": {
      "text/html": [
       "<div>\n",
       "<style scoped>\n",
       "    .dataframe tbody tr th:only-of-type {\n",
       "        vertical-align: middle;\n",
       "    }\n",
       "\n",
       "    .dataframe tbody tr th {\n",
       "        vertical-align: top;\n",
       "    }\n",
       "\n",
       "    .dataframe thead th {\n",
       "        text-align: right;\n",
       "    }\n",
       "</style>\n",
       "<table border=\"1\" class=\"dataframe\">\n",
       "  <thead>\n",
       "    <tr style=\"text-align: right;\">\n",
       "      <th></th>\n",
       "      <th>YEAR</th>\n",
       "      <th>MONTH</th>\n",
       "      <th>SUPPLIER</th>\n",
       "      <th>ITEM CODE</th>\n",
       "      <th>ITEM DESCRIPTION</th>\n",
       "      <th>ITEM TYPE</th>\n",
       "      <th>RETAIL SALES</th>\n",
       "      <th>RETAIL TRANSFERS</th>\n",
       "      <th>WAREHOUSE SALES</th>\n",
       "    </tr>\n",
       "  </thead>\n",
       "  <tbody>\n",
       "    <tr>\n",
       "      <th>0</th>\n",
       "      <td>2020</td>\n",
       "      <td>1</td>\n",
       "      <td>REPUBLIC NATIONAL DISTRIBUTING CO</td>\n",
       "      <td>100009</td>\n",
       "      <td>BOOTLEG RED - 750ML</td>\n",
       "      <td>WINE</td>\n",
       "      <td>0.00</td>\n",
       "      <td>0.0</td>\n",
       "      <td>2.0</td>\n",
       "    </tr>\n",
       "    <tr>\n",
       "      <th>1</th>\n",
       "      <td>2020</td>\n",
       "      <td>1</td>\n",
       "      <td>PWSWN INC</td>\n",
       "      <td>100024</td>\n",
       "      <td>MOMENT DE PLAISIR - 750ML</td>\n",
       "      <td>WINE</td>\n",
       "      <td>0.00</td>\n",
       "      <td>1.0</td>\n",
       "      <td>4.0</td>\n",
       "    </tr>\n",
       "    <tr>\n",
       "      <th>2</th>\n",
       "      <td>2020</td>\n",
       "      <td>1</td>\n",
       "      <td>RELIABLE CHURCHILL LLLP</td>\n",
       "      <td>1001</td>\n",
       "      <td>S SMITH ORGANIC PEAR CIDER - 18.7OZ</td>\n",
       "      <td>BEER</td>\n",
       "      <td>0.00</td>\n",
       "      <td>0.0</td>\n",
       "      <td>1.0</td>\n",
       "    </tr>\n",
       "    <tr>\n",
       "      <th>3</th>\n",
       "      <td>2020</td>\n",
       "      <td>1</td>\n",
       "      <td>LANTERNA DISTRIBUTORS INC</td>\n",
       "      <td>100145</td>\n",
       "      <td>SCHLINK HAUS KABINETT - 750ML</td>\n",
       "      <td>WINE</td>\n",
       "      <td>0.00</td>\n",
       "      <td>0.0</td>\n",
       "      <td>1.0</td>\n",
       "    </tr>\n",
       "    <tr>\n",
       "      <th>4</th>\n",
       "      <td>2020</td>\n",
       "      <td>1</td>\n",
       "      <td>DIONYSOS IMPORTS INC</td>\n",
       "      <td>100293</td>\n",
       "      <td>SANTORINI GAVALA WHITE - 750ML</td>\n",
       "      <td>WINE</td>\n",
       "      <td>0.82</td>\n",
       "      <td>0.0</td>\n",
       "      <td>0.0</td>\n",
       "    </tr>\n",
       "  </tbody>\n",
       "</table>\n",
       "</div>"
      ],
      "text/plain": [
       "   YEAR  MONTH                           SUPPLIER ITEM CODE  \\\n",
       "0  2020      1  REPUBLIC NATIONAL DISTRIBUTING CO    100009   \n",
       "1  2020      1                          PWSWN INC    100024   \n",
       "2  2020      1            RELIABLE CHURCHILL LLLP      1001   \n",
       "3  2020      1          LANTERNA DISTRIBUTORS INC    100145   \n",
       "4  2020      1               DIONYSOS IMPORTS INC    100293   \n",
       "\n",
       "                      ITEM DESCRIPTION ITEM TYPE  RETAIL SALES  \\\n",
       "0                  BOOTLEG RED - 750ML      WINE          0.00   \n",
       "1            MOMENT DE PLAISIR - 750ML      WINE          0.00   \n",
       "2  S SMITH ORGANIC PEAR CIDER - 18.7OZ      BEER          0.00   \n",
       "3        SCHLINK HAUS KABINETT - 750ML      WINE          0.00   \n",
       "4       SANTORINI GAVALA WHITE - 750ML      WINE          0.82   \n",
       "\n",
       "   RETAIL TRANSFERS  WAREHOUSE SALES  \n",
       "0               0.0              2.0  \n",
       "1               1.0              4.0  \n",
       "2               0.0              1.0  \n",
       "3               0.0              1.0  \n",
       "4               0.0              0.0  "
      ]
     },
     "execution_count": 20,
     "metadata": {},
     "output_type": "execute_result"
    }
   ],
   "source": [
    "import pandas as pd\n",
    "\n",
    "file_path = \"Retail and wherehouse Sale.csv\"\n",
    "df = pd.read_csv(file_path)\n",
    "\n",
    "df.head()"
   ]
  },
  {
   "cell_type": "code",
   "execution_count": 21,
   "id": "80d1f6ad-5c0f-4362-9b9c-fb349caae8c7",
   "metadata": {},
   "outputs": [
    {
     "name": "stdout",
     "output_type": "stream",
     "text": [
      "<class 'pandas.core.frame.DataFrame'>\n",
      "RangeIndex: 30000 entries, 0 to 29999\n",
      "Data columns (total 9 columns):\n",
      " #   Column            Non-Null Count  Dtype  \n",
      "---  ------            --------------  -----  \n",
      " 0   YEAR              30000 non-null  int64  \n",
      " 1   MONTH             30000 non-null  int64  \n",
      " 2   SUPPLIER          29967 non-null  object \n",
      " 3   ITEM CODE         30000 non-null  object \n",
      " 4   ITEM DESCRIPTION  30000 non-null  object \n",
      " 5   ITEM TYPE         30000 non-null  object \n",
      " 6   RETAIL SALES      29999 non-null  float64\n",
      " 7   RETAIL TRANSFERS  30000 non-null  float64\n",
      " 8   WAREHOUSE SALES   30000 non-null  float64\n",
      "dtypes: float64(3), int64(2), object(4)\n",
      "memory usage: 2.1+ MB\n"
     ]
    },
    {
     "data": {
      "text/plain": [
       "YEAR                 0\n",
       "MONTH                0\n",
       "SUPPLIER            33\n",
       "ITEM CODE            0\n",
       "ITEM DESCRIPTION     0\n",
       "ITEM TYPE            0\n",
       "RETAIL SALES         1\n",
       "RETAIL TRANSFERS     0\n",
       "WAREHOUSE SALES      0\n",
       "dtype: int64"
      ]
     },
     "execution_count": 21,
     "metadata": {},
     "output_type": "execute_result"
    }
   ],
   "source": [
    "df.info()\n",
    "df.isnull().sum()"
   ]
  },
  {
   "cell_type": "code",
   "execution_count": 22,
   "id": "deb5def9-769f-48dc-a6c3-7dccd695aee9",
   "metadata": {},
   "outputs": [
    {
     "data": {
      "text/plain": [
       "Index(['year', 'month', 'supplier', 'item_code', 'item_description',\n",
       "       'item_type', 'retail_sales', 'retail_transfers', 'warehouse_sales'],\n",
       "      dtype='object')"
      ]
     },
     "execution_count": 22,
     "metadata": {},
     "output_type": "execute_result"
    }
   ],
   "source": [
    "df.columns = [col.strip().lower().replace(\" \", \"_\") for col in df.columns]\n",
    "df.columns"
   ]
  },
  {
   "cell_type": "code",
   "execution_count": 23,
   "id": "f888760a-c068-4818-b741-2918e2dc8b67",
   "metadata": {},
   "outputs": [
    {
     "data": {
      "text/plain": [
       "year                0\n",
       "month               0\n",
       "supplier            0\n",
       "item_code           0\n",
       "item_description    0\n",
       "item_type           0\n",
       "retail_sales        0\n",
       "retail_transfers    0\n",
       "warehouse_sales     0\n",
       "dtype: int64"
      ]
     },
     "execution_count": 23,
     "metadata": {},
     "output_type": "execute_result"
    }
   ],
   "source": [
    "df['supplier'] = df['supplier'].fillna('Unknown')\n",
    "\n",
    "df = df[df['retail_sales'].notna()]\n",
    "df.isnull().sum()"
   ]
  },
  {
   "cell_type": "code",
   "execution_count": 24,
   "id": "163a986c-cb8d-4982-963f-db8f3dfe9936",
   "metadata": {},
   "outputs": [
    {
     "data": {
      "text/plain": [
       "29999"
      ]
     },
     "execution_count": 24,
     "metadata": {},
     "output_type": "execute_result"
    }
   ],
   "source": [
    "from sqlalchemy import create_engine\n",
    "\n",
    "engine = create_engine('sqlite:///retail_sales.db')\n",
    "\n",
    "df.to_sql('sales', con=engine, index=False, if_exists='replace')"
   ]
  },
  {
   "cell_type": "code",
   "execution_count": 26,
   "id": "5f6981a2-0b76-4f84-b5cc-06e2dca89282",
   "metadata": {},
   "outputs": [
    {
     "data": {
      "text/html": [
       "<div>\n",
       "<style scoped>\n",
       "    .dataframe tbody tr th:only-of-type {\n",
       "        vertical-align: middle;\n",
       "    }\n",
       "\n",
       "    .dataframe tbody tr th {\n",
       "        vertical-align: top;\n",
       "    }\n",
       "\n",
       "    .dataframe thead th {\n",
       "        text-align: right;\n",
       "    }\n",
       "</style>\n",
       "<table border=\"1\" class=\"dataframe\">\n",
       "  <thead>\n",
       "    <tr style=\"text-align: right;\">\n",
       "      <th></th>\n",
       "      <th>year</th>\n",
       "      <th>total_sales</th>\n",
       "    </tr>\n",
       "  </thead>\n",
       "  <tbody>\n",
       "    <tr>\n",
       "      <th>0</th>\n",
       "      <td>2020</td>\n",
       "      <td>208186.94</td>\n",
       "    </tr>\n",
       "  </tbody>\n",
       "</table>\n",
       "</div>"
      ],
      "text/plain": [
       "   year  total_sales\n",
       "0  2020    208186.94"
      ]
     },
     "execution_count": 26,
     "metadata": {},
     "output_type": "execute_result"
    }
   ],
   "source": [
    "import sqlite3\n",
    "\n",
    "# Connect to the database\n",
    "conn = sqlite3.connect(\"retail_sales.db\")\n",
    "\n",
    "# Total Retail Sales Per Year\n",
    "query = \"\"\"\n",
    "SELECT year, SUM(retail_sales) AS total_sales\n",
    "FROM sales\n",
    "GROUP BY year\n",
    "ORDER BY year;\n",
    "\"\"\"\n",
    "\n",
    "pd.read_sql_query(query, conn)"
   ]
  },
  {
   "cell_type": "code",
   "execution_count": 27,
   "id": "2ba0ee31-2cc1-4124-a040-eb6ce1071f2c",
   "metadata": {},
   "outputs": [
    {
     "data": {
      "text/html": [
       "<div>\n",
       "<style scoped>\n",
       "    .dataframe tbody tr th:only-of-type {\n",
       "        vertical-align: middle;\n",
       "    }\n",
       "\n",
       "    .dataframe tbody tr th {\n",
       "        vertical-align: top;\n",
       "    }\n",
       "\n",
       "    .dataframe thead th {\n",
       "        text-align: right;\n",
       "    }\n",
       "</style>\n",
       "<table border=\"1\" class=\"dataframe\">\n",
       "  <thead>\n",
       "    <tr style=\"text-align: right;\">\n",
       "      <th></th>\n",
       "      <th>item_type</th>\n",
       "      <th>total_sales</th>\n",
       "    </tr>\n",
       "  </thead>\n",
       "  <tbody>\n",
       "    <tr>\n",
       "      <th>0</th>\n",
       "      <td>LIQUOR</td>\n",
       "      <td>81742.85</td>\n",
       "    </tr>\n",
       "    <tr>\n",
       "      <th>1</th>\n",
       "      <td>WINE</td>\n",
       "      <td>59688.84</td>\n",
       "    </tr>\n",
       "    <tr>\n",
       "      <th>2</th>\n",
       "      <td>BEER</td>\n",
       "      <td>59538.76</td>\n",
       "    </tr>\n",
       "    <tr>\n",
       "      <th>3</th>\n",
       "      <td>NON-ALCOHOL</td>\n",
       "      <td>6824.62</td>\n",
       "    </tr>\n",
       "    <tr>\n",
       "      <th>4</th>\n",
       "      <td>STR_SUPPLIES</td>\n",
       "      <td>345.60</td>\n",
       "    </tr>\n",
       "  </tbody>\n",
       "</table>\n",
       "</div>"
      ],
      "text/plain": [
       "      item_type  total_sales\n",
       "0        LIQUOR     81742.85\n",
       "1          WINE     59688.84\n",
       "2          BEER     59538.76\n",
       "3   NON-ALCOHOL      6824.62\n",
       "4  STR_SUPPLIES       345.60"
      ]
     },
     "execution_count": 27,
     "metadata": {},
     "output_type": "execute_result"
    }
   ],
   "source": [
    "# Top 5 Selling Item Types by Total Retail Sales\n",
    "query = \"\"\"\n",
    "SELECT item_type, ROUND(SUM(retail_sales), 2) AS total_sales\n",
    "FROM sales\n",
    "GROUP BY item_type\n",
    "ORDER BY total_sales DESC\n",
    "LIMIT 5;\n",
    "\"\"\"\n",
    "\n",
    "pd.read_sql_query(query, conn)"
   ]
  },
  {
   "cell_type": "code",
   "execution_count": 28,
   "id": "f66dca15-8079-47b0-abf8-91d0ffd08203",
   "metadata": {},
   "outputs": [
    {
     "data": {
      "text/html": [
       "<div>\n",
       "<style scoped>\n",
       "    .dataframe tbody tr th:only-of-type {\n",
       "        vertical-align: middle;\n",
       "    }\n",
       "\n",
       "    .dataframe tbody tr th {\n",
       "        vertical-align: top;\n",
       "    }\n",
       "\n",
       "    .dataframe thead th {\n",
       "        text-align: right;\n",
       "    }\n",
       "</style>\n",
       "<table border=\"1\" class=\"dataframe\">\n",
       "  <thead>\n",
       "    <tr style=\"text-align: right;\">\n",
       "      <th></th>\n",
       "      <th>supplier</th>\n",
       "      <th>total_retail_sales</th>\n",
       "      <th>total_warehouse_sales</th>\n",
       "    </tr>\n",
       "  </thead>\n",
       "  <tbody>\n",
       "    <tr>\n",
       "      <th>0</th>\n",
       "      <td>DIAGEO NORTH AMERICA INC</td>\n",
       "      <td>13840.54</td>\n",
       "      <td>20807.36</td>\n",
       "    </tr>\n",
       "    <tr>\n",
       "      <th>1</th>\n",
       "      <td>E &amp; J GALLO WINERY</td>\n",
       "      <td>12742.24</td>\n",
       "      <td>17734.00</td>\n",
       "    </tr>\n",
       "    <tr>\n",
       "      <th>2</th>\n",
       "      <td>ANHEUSER BUSCH INC</td>\n",
       "      <td>10091.64</td>\n",
       "      <td>137538.52</td>\n",
       "    </tr>\n",
       "    <tr>\n",
       "      <th>3</th>\n",
       "      <td>CONSTELLATION BRANDS</td>\n",
       "      <td>9931.78</td>\n",
       "      <td>11193.01</td>\n",
       "    </tr>\n",
       "    <tr>\n",
       "      <th>4</th>\n",
       "      <td>JIM BEAM BRANDS CO</td>\n",
       "      <td>9845.79</td>\n",
       "      <td>757.76</td>\n",
       "    </tr>\n",
       "    <tr>\n",
       "      <th>...</th>\n",
       "      <td>...</td>\n",
       "      <td>...</td>\n",
       "      <td>...</td>\n",
       "    </tr>\n",
       "    <tr>\n",
       "      <th>286</th>\n",
       "      <td>BREWDOG BREWING COMPANY LLC</td>\n",
       "      <td>0.00</td>\n",
       "      <td>1.00</td>\n",
       "    </tr>\n",
       "    <tr>\n",
       "      <th>287</th>\n",
       "      <td>BASQUE BAR LLC</td>\n",
       "      <td>0.00</td>\n",
       "      <td>117.00</td>\n",
       "    </tr>\n",
       "    <tr>\n",
       "      <th>288</th>\n",
       "      <td>AMERICAN FIDELITY TRADING</td>\n",
       "      <td>0.00</td>\n",
       "      <td>4.00</td>\n",
       "    </tr>\n",
       "    <tr>\n",
       "      <th>289</th>\n",
       "      <td>ALLIED IMPORTERS USA LTD</td>\n",
       "      <td>0.00</td>\n",
       "      <td>1.00</td>\n",
       "    </tr>\n",
       "    <tr>\n",
       "      <th>290</th>\n",
       "      <td>A I G WINE &amp; SPIRITS</td>\n",
       "      <td>0.00</td>\n",
       "      <td>26.00</td>\n",
       "    </tr>\n",
       "  </tbody>\n",
       "</table>\n",
       "<p>291 rows × 3 columns</p>\n",
       "</div>"
      ],
      "text/plain": [
       "                        supplier  total_retail_sales  total_warehouse_sales\n",
       "0       DIAGEO NORTH AMERICA INC            13840.54               20807.36\n",
       "1             E & J GALLO WINERY            12742.24               17734.00\n",
       "2             ANHEUSER BUSCH INC            10091.64              137538.52\n",
       "3           CONSTELLATION BRANDS             9931.78               11193.01\n",
       "4             JIM BEAM BRANDS CO             9845.79                 757.76\n",
       "..                           ...                 ...                    ...\n",
       "286  BREWDOG BREWING COMPANY LLC                0.00                   1.00\n",
       "287               BASQUE BAR LLC                0.00                 117.00\n",
       "288    AMERICAN FIDELITY TRADING                0.00                   4.00\n",
       "289     ALLIED IMPORTERS USA LTD                0.00                   1.00\n",
       "290         A I G WINE & SPIRITS                0.00                  26.00\n",
       "\n",
       "[291 rows x 3 columns]"
      ]
     },
     "execution_count": 28,
     "metadata": {},
     "output_type": "execute_result"
    }
   ],
   "source": [
    "#Total Retail vs Warehouse Sales per Supplier\n",
    "query = \"\"\"\n",
    "SELECT supplier, \n",
    "       ROUND(SUM(retail_sales), 2) AS total_retail_sales,\n",
    "       ROUND(SUM(warehouse_sales), 2) AS total_warehouse_sales\n",
    "FROM sales\n",
    "GROUP BY supplier\n",
    "ORDER BY total_retail_sales DESC;\n",
    "\"\"\"\n",
    "\n",
    "pd.read_sql_query(query, conn)"
   ]
  },
  {
   "cell_type": "code",
   "execution_count": 38,
   "id": "d2c010c6-ea3c-46b1-be82-c0855903d340",
   "metadata": {},
   "outputs": [
    {
     "data": {
      "image/png": "[encoded data removed]",
      "text/plain": [
       "<Figure size 1000x600 with 1 Axes>"
      ]
     },
     "metadata": {},
     "output_type": "display_data"
    }
   ],
   "source": [
    "# Average Monthly Sales Per Item Type\n",
    "query = \"\"\"\n",
    "SELECT item_type, \n",
    "       ROUND(AVG(retail_sales), 2) AS avg_monthly_sales\n",
    "FROM sales\n",
    "GROUP BY item_type\n",
    "ORDER BY avg_monthly_sales DESC;\n",
    "\"\"\"\n",
    "\n",
    "pd.read_sql_query(query, conn)\n",
    "\n",
    "avg_sales = pd.read_sql_query(query, conn)\n",
    "\n",
    "# Plotting\n",
    "import matplotlib.pyplot as plt\n",
    "\n",
    "plt.figure(figsize=(10, 6))\n",
    "plt.barh(avg_sales['item_type'], avg_sales['avg_monthly_sales'], color='darkOrange')\n",
    "plt.xlabel(\"Average Monthly Sales\")\n",
    "plt.ylabel(\"Item Type\")\n",
    "plt.title(\"Average Monthly Retail Sales per Item Type\")\n",
    "plt.gca().invert_yaxis()\n",
    "plt.tight_layout()\n",
    "plt.show()"
   ]
  },
  {
   "cell_type": "code",
   "execution_count": 34,
   "id": "468245b9-99c5-4adc-a3b6-5e77de493aa2",
   "metadata": {},
   "outputs": [
    {
     "data": {
      "text/html": [
       "<div>\n",
       "<style scoped>\n",
       "    .dataframe tbody tr th:only-of-type {\n",
       "        vertical-align: middle;\n",
       "    }\n",
       "\n",
       "    .dataframe tbody tr th {\n",
       "        vertical-align: top;\n",
       "    }\n",
       "\n",
       "    .dataframe thead th {\n",
       "        text-align: right;\n",
       "    }\n",
       "</style>\n",
       "<table border=\"1\" class=\"dataframe\">\n",
       "  <thead>\n",
       "    <tr style=\"text-align: right;\">\n",
       "      <th></th>\n",
       "      <th>year</th>\n",
       "      <th>month</th>\n",
       "      <th>total_retail_sales</th>\n",
       "      <th>total_transfers</th>\n",
       "    </tr>\n",
       "  </thead>\n",
       "  <tbody>\n",
       "    <tr>\n",
       "      <th>0</th>\n",
       "      <td>2020</td>\n",
       "      <td>1</td>\n",
       "      <td>74318.77</td>\n",
       "      <td>75997.35</td>\n",
       "    </tr>\n",
       "  </tbody>\n",
       "</table>\n",
       "</div>"
      ],
      "text/plain": [
       "   year  month  total_retail_sales  total_transfers\n",
       "0  2020      1            74318.77         75997.35"
      ]
     },
     "execution_count": 34,
     "metadata": {},
     "output_type": "execute_result"
    }
   ],
   "source": [
    "#Months Where Retail Sales Were Less Than Transfers (Red Flag)\n",
    "query = \"\"\"\n",
    "SELECT year, month,\n",
    "       ROUND(SUM(retail_sales), 2) AS total_retail_sales,\n",
    "       ROUND(SUM(retail_transfers), 2) AS total_transfers\n",
    "FROM sales\n",
    "GROUP BY year, month\n",
    "HAVING SUM(retail_sales) < SUM(retail_transfers)\n",
    "ORDER BY year, month;\n",
    "\"\"\"\n",
    "\n",
    "pd.read_sql_query(query, conn)"
   ]
  },
  {
   "cell_type": "code",
   "execution_count": 44,
   "id": "1820a853-154e-47b8-8974-d75590d2bf77",
   "metadata": {},
   "outputs": [
    {
     "data": {
      "image/png": "[encoded data removed]",
      "text/plain": [
       "<Figure size 1200x600 with 1 Axes>"
      ]
     },
     "metadata": {},
     "output_type": "display_data"
    }
   ],
   "source": [
    "# CTE + Window Function \n",
    "#Rank item_types within each year by total retail sales\n",
    "query = \"\"\"\n",
    "WITH sales_by_type AS (\n",
    "    SELECT year, item_type, SUM(retail_sales) AS total_sales\n",
    "    FROM sales\n",
    "    GROUP BY year, item_type\n",
    ")\n",
    "SELECT *, \n",
    "       RANK() OVER (PARTITION BY year ORDER BY total_sales DESC) AS rank_in_year\n",
    "FROM sales_by_type;\n",
    "\"\"\"\n",
    "\n",
    "pd.read_sql_query(query, conn)\n",
    "\n",
    "ranked_sales = pd.read_sql_query(query, conn)\n",
    "\n",
    "# Plot top 3 items per year\n",
    "top3 = ranked_sales[ranked_sales['rank_in_year'] <= 3]\n",
    "\n",
    "import seaborn as sns\n",
    "\n",
    "plt.figure(figsize=(12, 6))\n",
    "sns.barplot(data=top3, x=\"item_type\", y=\"total_sales\", hue=\"item_type\")\n",
    "plt.title(\"Top 3 Item Types by Retail Sales (2020)\")\n",
    "plt.ylabel(\"Total Retail Sales\")\n",
    "plt.tight_layout()\n",
    "plt.show()"
   ]
  },
  {
   "cell_type": "code",
   "execution_count": 48,
   "id": "b3726ded-f33d-448f-aecd-733f34547185",
   "metadata": {},
   "outputs": [
    {
     "data": {
      "image/png": "[encoded data removed]",
      "text/plain": [
       "<Figure size 1200x600 with 1 Axes>"
      ]
     },
     "metadata": {},
     "output_type": "display_data"
    }
   ],
   "source": [
    "#Classify Months\n",
    "query = \"\"\"\n",
    "SELECT year, month,\n",
    "       ROUND(SUM(retail_sales), 2) AS total_retail_sales,\n",
    "       ROUND(SUM(retail_transfers), 2) AS total_transfers\n",
    "FROM sales\n",
    "GROUP BY year, month\n",
    "ORDER BY year, month;\n",
    "\"\"\"\n",
    "\n",
    "monthly = pd.read_sql_query(query, conn)\n",
    "\n",
    "# Classification logic\n",
    "def classify(row):\n",
    "    if row['total_retail_sales'] < row['total_transfers']:\n",
    "        return 'Red'\n",
    "    elif row['total_retail_sales'] > row['total_transfers'] * 1.1:\n",
    "        return 'Green'\n",
    "    else:\n",
    "        return 'Yellow'\n",
    "\n",
    "monthly['flag'] = monthly.apply(classify, axis=1)\n",
    "monthly['period'] = monthly['year'].astype(str) + \"-\" + monthly['month'].astype(str).str.zfill(2)\n",
    "#plot\n",
    "color_map = {'Red': 'red', 'Green': 'green', 'Yellow': 'gold'}\n",
    "\n",
    "plt.figure(figsize=(12, 6))\n",
    "plt.bar(monthly['period'], monthly['total_retail_sales'], \n",
    "        color=monthly['flag'].map(color_map))\n",
    "plt.xticks(rotation=45)\n",
    "plt.ylabel(\"Retail Sales\")\n",
    "plt.title(\"Monthly Retail Sales: Red = Below Transfers, Green = Strong Sales\")\n",
    "plt.tight_layout()\n",
    "plt.show()"
   ]
  }
 ],
 "metadata": {
  "kernelspec": {
   "display_name": "Python 3 (ipykernel)",
   "language": "python",
   "name": "python3"
  },
  "language_info": {
   "codemirror_mode": {
    "name": "ipython",
    "version": 3
   },
   "file_extension": ".py",
   "mimetype": "text/x-python",
   "name": "python",
   "nbconvert_exporter": "python",
   "pygments_lexer": "ipython3",
   "version": "3.12.7"
  }
 },
 "nbformat": 4,
 "nbformat_minor": 5
}
